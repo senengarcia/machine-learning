{
 "cells": [
  {
   "cell_type": "code",
   "execution_count": 4,
   "metadata": {},
   "outputs": [],
   "source": [
    "import pandas as pd\n",
    "import numpy\n",
    "from pandas import read_csv\n",
    "from matplotlib import pyplot\n",
    "\n",
    "%matplotlib inline\n",
    "pd.set_option('display.width', 100)\n",
    "pd.set_option('precision', 3)\n",
    "\n",
    "from warnings import simplefilter\n",
    "simplefilter(action='ignore', category=FutureWarning)\n",
    "\n",
    "filename = \"data/boston-housing/housing.csv\"\n",
    "\n",
    "names = ['CRIM', 'ZN', 'INDUS', 'CHAS', 'NOX', 'RM', 'AGE', 'DIS', 'RAD', 'TAX', 'PTRATIO', 'B', 'LSTAT', 'MEDV']\n",
    "dataset = read_csv(filename, names=names)"
   ]
  },
  {
   "cell_type": "code",
   "execution_count": 5,
   "metadata": {},
   "outputs": [],
   "source": [
    "# Reescalar y Dividir\n",
    "\n",
    "from sklearn.model_selection import train_test_split\n",
    "from sklearn.preprocessing import StandardScaler\n",
    "\n",
    "# Split-out validation dataset\n",
    "array = dataset.values\n",
    "X = array[:,0:13]\n",
    "Y = array[:,13]\n",
    "\n",
    "validation_size = 0.20 #   20%\n",
    "seed = 7\n",
    "X_train, X_validation, Y_train, Y_validation = train_test_split(X, Y, test_size=validation_size, random_state=seed)\n",
    "\n",
    "# Escalar Datos\n",
    "scaler = StandardScaler().fit(X_train)\n",
    "rescaledX = scaler.transform(X_train)"
   ]
  },
  {
   "cell_type": "code",
   "execution_count": 12,
   "metadata": {},
   "outputs": [
    {
     "name": "stderr",
     "output_type": "stream",
     "text": [
      "C:\\Users\\TNT\\Anaconda3\\envs\\tf_gpu\\lib\\site-packages\\sklearn\\model_selection\\_search.py:841: DeprecationWarning: The default of the `iid` parameter will change from True to False in version 0.22 and will be removed in 0.24. This will change numeric results when test-set sizes are unequal.\n",
      "  DeprecationWarning)\n"
     ]
    }
   ],
   "source": [
    "from sklearn.model_selection import KFold\n",
    "from sklearn.model_selection import cross_val_score\n",
    "from sklearn.ensemble import GradientBoostingRegressor\n",
    "from sklearn.model_selection import GridSearchCV\n",
    "\n",
    "from warnings import simplefilter\n",
    "simplefilter(action='ignore', category=FutureWarning)\n",
    "\n",
    "#parametros\n",
    "num_folds = 10\n",
    "seed = 7\n",
    "scoring = 'neg_mean_squared_error'\n",
    "\n",
    "# Tune scaled GBM\n",
    "param_grid = dict(n_estimators=numpy.array([50,100,150,200,250,300,350,400,999]))\n",
    "\n",
    "\n",
    "model = GradientBoostingRegressor(random_state=seed)\n",
    "kfold = KFold(n_splits=num_folds, random_state=seed)\n",
    "\n",
    "grid = GridSearchCV(estimator=model, param_grid=param_grid, scoring=scoring, cv=kfold)\n",
    "grid_result = grid.fit(rescaledX, Y_train)\n"
   ]
  },
  {
   "cell_type": "code",
   "execution_count": 13,
   "metadata": {
    "scrolled": true
   },
   "outputs": [
    {
     "name": "stdout",
     "output_type": "stream",
     "text": [
      "Best: -9.350538 using {'n_estimators': 999}\n",
      "-10.812167 (4.724394) with: {'n_estimators': 50}\n",
      "-10.040857 (4.441758) with: {'n_estimators': 100}\n",
      "-9.694045 (4.275653) with: {'n_estimators': 150}\n",
      "-9.539481 (4.270153) with: {'n_estimators': 200}\n",
      "-9.449042 (4.261930) with: {'n_estimators': 250}\n",
      "-9.426909 (4.271399) with: {'n_estimators': 300}\n",
      "-9.366779 (4.251669) with: {'n_estimators': 350}\n",
      "-9.353870 (4.265816) with: {'n_estimators': 400}\n",
      "-9.350538 (4.286363) with: {'n_estimators': 999}\n"
     ]
    }
   ],
   "source": [
    "print(\"Best: %f using %s\" % (grid_result.best_score_, grid_result.best_params_))\n",
    "\n",
    "means = grid_result.cv_results_['mean_test_score']\n",
    "stds = grid_result.cv_results_['std_test_score']\n",
    "params = grid_result.cv_results_['params']\n",
    "\n",
    "for mean, stdev, param in zip(means, stds, params):\n",
    "    print(\"%f (%f) with: %r\" % (mean, stdev, param))"
   ]
  },
  {
   "cell_type": "markdown",
   "metadata": {},
   "source": [
    "## Eleccion del modelo y testeo\n",
    "\n",
    "Se elige el de 400 esstimator"
   ]
  },
  {
   "cell_type": "code",
   "execution_count": 35,
   "metadata": {},
   "outputs": [
    {
     "data": {
      "text/plain": [
       "GradientBoostingRegressor(alpha=0.9, criterion='friedman_mse', init=None,\n",
       "             learning_rate=0.1, loss='ls', max_depth=3, max_features=None,\n",
       "             max_leaf_nodes=None, min_impurity_decrease=0.0,\n",
       "             min_impurity_split=None, min_samples_leaf=1,\n",
       "             min_samples_split=2, min_weight_fraction_leaf=0.0,\n",
       "             n_estimators=400, n_iter_no_change=None, presort='auto',\n",
       "             random_state=7, subsample=1.0, tol=0.0001,\n",
       "             validation_fraction=0.1, verbose=0, warm_start=False)"
      ]
     },
     "execution_count": 35,
     "metadata": {},
     "output_type": "execute_result"
    }
   ],
   "source": [
    "# prepare the model y entrenarlo\n",
    "scaler = StandardScaler().fit(X_train)\n",
    "rescaledX = scaler.transform(X_train)\n",
    "\n",
    "model = GradientBoostingRegressor(random_state=seed, n_estimators=400)\n",
    "model.fit(rescaledX, Y_train)\n",
    "\n"
   ]
  },
  {
   "cell_type": "markdown",
   "metadata": {},
   "source": [
    "## Ahora probarlo con el 20% de los datos de validacion"
   ]
  },
  {
   "cell_type": "code",
   "execution_count": 36,
   "metadata": {},
   "outputs": [
    {
     "name": "stdout",
     "output_type": "stream",
     "text": [
      "11.878916447820348\n"
     ]
    }
   ],
   "source": [
    "from sklearn.metrics  import mean_squared_error\n",
    "\n",
    "\n",
    "# transform the validation dataset\n",
    "rescaledValidationX = scaler.transform(X_validation)\n",
    "\n",
    "predictions = model.predict(rescaledValidationX)\n",
    "\n",
    "print(mean_squared_error(Y_validation, predictions))"
   ]
  },
  {
   "cell_type": "code",
   "execution_count": 37,
   "metadata": {},
   "outputs": [
    {
     "name": "stdout",
     "output_type": "stream",
     "text": [
      "Validacion/Prediccion 21.70 / 21.60 (-0.44 %)\n",
      "Validacion/Prediccion 18.50 / 18.91 (2.20 %)\n",
      "Validacion/Prediccion 22.20 / 20.52 (-7.55 %)\n",
      "Validacion/Prediccion 20.40 / 20.77 (1.82 %)\n",
      "Validacion/Prediccion 8.80 / 4.61 (-47.59 %)\n",
      "Validacion/Prediccion 8.30 / 8.99 (8.29 %)\n",
      "Validacion/Prediccion 21.40 / 19.59 (-8.46 %)\n",
      "Validacion/Prediccion 23.60 / 23.86 (1.09 %)\n",
      "Validacion/Prediccion 23.50 / 24.78 (5.43 %)\n",
      "Validacion/Prediccion 19.00 / 14.55 (-23.43 %)\n",
      "Validacion/Prediccion 10.20 / 9.64 (-5.51 %)\n",
      "Validacion/Prediccion 31.60 / 32.84 (3.91 %)\n",
      "Validacion/Prediccion 18.40 / 16.70 (-9.24 %)\n",
      "Validacion/Prediccion 19.40 / 18.27 (-5.81 %)\n",
      "Validacion/Prediccion 44.00 / 40.39 (-8.20 %)\n",
      "Validacion/Prediccion 23.20 / 19.23 (-17.12 %)\n",
      "Validacion/Prediccion 22.00 / 25.48 (15.82 %)\n",
      "Validacion/Prediccion 33.10 / 32.72 (-1.13 %)\n",
      "Validacion/Prediccion 13.20 / 16.92 (28.21 %)\n",
      "Validacion/Prediccion 21.70 / 20.56 (-5.27 %)\n",
      "Validacion/Prediccion 16.70 / 18.15 (8.66 %)\n",
      "Validacion/Prediccion 23.90 / 26.72 (11.78 %)\n",
      "Validacion/Prediccion 42.30 / 45.07 (6.54 %)\n",
      "Validacion/Prediccion 18.50 / 20.15 (8.89 %)\n",
      "Validacion/Prediccion 14.60 / 12.40 (-15.04 %)\n",
      "Validacion/Prediccion 7.50 / 11.01 (46.79 %)\n",
      "Validacion/Prediccion 33.40 / 34.11 (2.13 %)\n",
      "Validacion/Prediccion 22.00 / 26.34 (19.74 %)\n",
      "Validacion/Prediccion 28.10 / 24.62 (-12.39 %)\n",
      "Validacion/Prediccion 24.80 / 24.50 (-1.22 %)\n",
      "Validacion/Prediccion 19.90 / 19.74 (-0.79 %)\n",
      "Validacion/Prediccion 24.80 / 26.66 (7.48 %)\n",
      "Validacion/Prediccion 28.70 / 31.16 (8.56 %)\n",
      "Validacion/Prediccion 14.10 / 14.22 (0.85 %)\n",
      "Validacion/Prediccion 43.50 / 48.90 (12.41 %)\n",
      "Validacion/Prediccion 20.40 / 18.76 (-8.02 %)\n",
      "Validacion/Prediccion 18.30 / 20.60 (12.58 %)\n",
      "Validacion/Prediccion 13.40 / 13.98 (4.33 %)\n",
      "Validacion/Prediccion 21.00 / 21.74 (3.52 %)\n",
      "Validacion/Prediccion 22.00 / 25.44 (15.63 %)\n",
      "Validacion/Prediccion 22.60 / 23.13 (2.34 %)\n",
      "Validacion/Prediccion 13.90 / 14.05 (1.06 %)\n",
      "Validacion/Prediccion 13.30 / 13.20 (-0.78 %)\n",
      "Validacion/Prediccion 26.50 / 28.59 (7.90 %)\n",
      "Validacion/Prediccion 20.00 / 17.90 (-10.51 %)\n",
      "Validacion/Prediccion 9.50 / 10.48 (10.32 %)\n",
      "Validacion/Prediccion 21.60 / 21.68 (0.35 %)\n",
      "Validacion/Prediccion 22.60 / 20.87 (-7.65 %)\n",
      "Validacion/Prediccion 15.60 / 15.41 (-1.24 %)\n",
      "Validacion/Prediccion 23.10 / 20.60 (-10.83 %)\n",
      "Validacion/Prediccion 27.10 / 26.37 (-2.71 %)\n",
      "Validacion/Prediccion 25.20 / 24.11 (-4.31 %)\n",
      "Validacion/Prediccion 15.00 / 24.00 (59.98 %)\n",
      "Validacion/Prediccion 21.90 / 45.63 (108.36 %)\n",
      "Validacion/Prediccion 9.60 / 11.92 (24.19 %)\n",
      "Validacion/Prediccion 22.70 / 20.92 (-7.84 %)\n",
      "Validacion/Prediccion 18.30 / 17.96 (-1.88 %)\n",
      "Validacion/Prediccion 21.40 / 21.07 (-1.53 %)\n",
      "Validacion/Prediccion 20.50 / 22.02 (7.41 %)\n",
      "Validacion/Prediccion 21.10 / 19.32 (-8.45 %)\n",
      "Validacion/Prediccion 24.50 / 20.62 (-15.83 %)\n",
      "Validacion/Prediccion 31.00 / 30.68 (-1.05 %)\n",
      "Validacion/Prediccion 18.70 / 18.28 (-2.26 %)\n",
      "Validacion/Prediccion 18.70 / 20.75 (10.98 %)\n",
      "Validacion/Prediccion 22.70 / 20.90 (-7.91 %)\n",
      "Validacion/Prediccion 50.00 / 47.90 (-4.20 %)\n",
      "Validacion/Prediccion 16.70 / 17.26 (3.37 %)\n",
      "Validacion/Prediccion 23.00 / 19.10 (-16.95 %)\n",
      "Validacion/Prediccion 20.40 / 21.95 (7.60 %)\n",
      "Validacion/Prediccion 22.80 / 28.30 (24.11 %)\n",
      "Validacion/Prediccion 24.80 / 22.29 (-10.13 %)\n",
      "Validacion/Prediccion 10.50 / 9.70 (-7.66 %)\n",
      "Validacion/Prediccion 18.20 / 18.69 (2.69 %)\n",
      "Validacion/Prediccion 31.50 / 34.42 (9.26 %)\n",
      "Validacion/Prediccion 23.80 / 21.44 (-9.90 %)\n",
      "Validacion/Prediccion 19.60 / 20.89 (6.57 %)\n",
      "Validacion/Prediccion 12.70 / 14.04 (10.54 %)\n",
      "Validacion/Prediccion 15.20 / 17.63 (15.98 %)\n",
      "Validacion/Prediccion 31.20 / 29.67 (-4.89 %)\n",
      "Validacion/Prediccion 14.50 / 18.73 (29.16 %)\n",
      "Validacion/Prediccion 17.80 / 15.37 (-13.66 %)\n",
      "Validacion/Prediccion 25.00 / 26.89 (7.55 %)\n",
      "Validacion/Prediccion 23.00 / 20.50 (-10.88 %)\n",
      "Validacion/Prediccion 50.00 / 47.30 (-5.39 %)\n",
      "Validacion/Prediccion 23.70 / 25.59 (7.97 %)\n",
      "Validacion/Prediccion 25.10 / 26.30 (4.77 %)\n",
      "Validacion/Prediccion 24.70 / 24.07 (-2.56 %)\n",
      "Validacion/Prediccion 16.80 / 19.93 (18.62 %)\n",
      "Validacion/Prediccion 34.70 / 33.59 (-3.21 %)\n",
      "Validacion/Prediccion 23.30 / 22.39 (-3.90 %)\n",
      "Validacion/Prediccion 50.00 / 41.59 (-16.82 %)\n",
      "Validacion/Prediccion 46.70 / 43.77 (-6.28 %)\n",
      "Validacion/Prediccion 43.10 / 45.07 (4.57 %)\n",
      "Validacion/Prediccion 24.40 / 23.30 (-4.50 %)\n",
      "Validacion/Prediccion 24.10 / 25.05 (3.92 %)\n",
      "Validacion/Prediccion 6.30 / 11.62 (84.45 %)\n",
      "Validacion/Prediccion 26.40 / 23.31 (-11.71 %)\n",
      "Validacion/Prediccion 16.30 / 16.62 (1.97 %)\n",
      "Validacion/Prediccion 17.20 / 15.09 (-12.28 %)\n",
      "Validacion/Prediccion 28.00 / 27.81 (-0.68 %)\n",
      "Validacion/Prediccion 15.20 / 16.30 (7.21 %)\n",
      "Validacion/Prediccion 16.60 / 17.08 (2.89 %)\n"
     ]
    }
   ],
   "source": [
    "pd.set_option('display.width', 100)\n",
    "pd.set_option('precision', 3)\n",
    "\n",
    "for validacion, prediccion in zip(Y_validation, predictions):\n",
    "    desviacion = (prediccion - validacion) * 100 / validacion\n",
    "    msg = \"Validacion/Prediccion %4.2f / %4.2f (%4.2f %%)\" % (validacion, prediccion, desviacion)\n",
    "    print (msg)"
   ]
  }
 ],
 "metadata": {
  "kernelspec": {
   "display_name": "Python 3",
   "language": "python",
   "name": "python3"
  },
  "language_info": {
   "codemirror_mode": {
    "name": "ipython",
    "version": 3
   },
   "file_extension": ".py",
   "mimetype": "text/x-python",
   "name": "python",
   "nbconvert_exporter": "python",
   "pygments_lexer": "ipython3",
   "version": "3.6.8"
  }
 },
 "nbformat": 4,
 "nbformat_minor": 2
}
