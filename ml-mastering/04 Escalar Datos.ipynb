{
 "cells": [
  {
   "cell_type": "code",
   "execution_count": 26,
   "metadata": {},
   "outputs": [],
   "source": [
    "import pandas as pd\n",
    "from matplotlib import pyplot\n",
    "import numpy\n",
    "from sklearn.preprocessing import MinMaxScaler\n",
    "from sklearn.preprocessing import StandardScaler\n",
    "from sklearn.preprocessing import Normalizer\n",
    "\n",
    "%matplotlib inline\n",
    "\n",
    "pd.set_option('display.width', 100)\n",
    "pd.set_option('precision', 3)\n",
    "filename = \"data/pima-indians-diabetes.csv\"\n",
    "data = pd.read_csv(filename)\n",
    "\n",
    "from numpy import set_printoptions\n",
    "set_printoptions(precision=3)\n"
   ]
  },
  {
   "cell_type": "code",
   "execution_count": 8,
   "metadata": {},
   "outputs": [
    {
     "data": {
      "text/plain": [
       "array([[  6.   , 148.   ,  72.   , ...,  33.6  ,   0.627,  50.   ],\n",
       "       [  1.   ,  85.   ,  66.   , ...,  26.6  ,   0.351,  31.   ],\n",
       "       [  8.   , 183.   ,  64.   , ...,  23.3  ,   0.672,  32.   ],\n",
       "       ...,\n",
       "       [  5.   , 121.   ,  72.   , ...,  26.2  ,   0.245,  30.   ],\n",
       "       [  1.   , 126.   ,  60.   , ...,  30.1  ,   0.349,  47.   ],\n",
       "       [  1.   ,  93.   ,  70.   , ...,  30.4  ,   0.315,  23.   ]])"
      ]
     },
     "execution_count": 8,
     "metadata": {},
     "output_type": "execute_result"
    }
   ],
   "source": [
    "array = data.values\n",
    "# separate array into input and output components\n",
    "X = array[:,0:8]\n",
    "Y = array[:,8]\n",
    "X"
   ]
  },
  {
   "cell_type": "code",
   "execution_count": 19,
   "metadata": {},
   "outputs": [
    {
     "data": {
      "text/plain": [
       "array([[0.353, 0.744, 0.59 , ..., 0.501, 0.234, 0.483],\n",
       "       [0.059, 0.427, 0.541, ..., 0.396, 0.117, 0.167],\n",
       "       [0.471, 0.92 , 0.525, ..., 0.347, 0.254, 0.183],\n",
       "       ...,\n",
       "       [0.294, 0.608, 0.59 , ..., 0.39 , 0.071, 0.15 ],\n",
       "       [0.059, 0.633, 0.492, ..., 0.449, 0.116, 0.433],\n",
       "       [0.059, 0.467, 0.574, ..., 0.453, 0.101, 0.033]])"
      ]
     },
     "execution_count": 19,
     "metadata": {},
     "output_type": "execute_result"
    }
   ],
   "source": [
    "# Rescale Data\n",
    "scaler = MinMaxScaler(feature_range=(0, 1))\n",
    "rescaledX = scaler.fit_transform(X)\n",
    "rescaledX"
   ]
  },
  {
   "cell_type": "code",
   "execution_count": 28,
   "metadata": {},
   "outputs": [
    {
     "data": {
      "text/plain": [
       "array([[ 0.64 ,  0.848,  0.15 , ...,  0.204,  0.468,  1.426],\n",
       "       [-0.845, -1.123, -0.161, ..., -0.684, -0.365, -0.191],\n",
       "       [ 1.234,  1.944, -0.264, ..., -1.103,  0.604, -0.106],\n",
       "       ...,\n",
       "       [ 0.343,  0.003,  0.15 , ..., -0.735, -0.685, -0.276],\n",
       "       [-0.845,  0.16 , -0.471, ..., -0.24 , -0.371,  1.171],\n",
       "       [-0.845, -0.873,  0.046, ..., -0.202, -0.474, -0.871]])"
      ]
     },
     "execution_count": 28,
     "metadata": {},
     "output_type": "execute_result"
    }
   ],
   "source": [
    "# Standardize data (0 mean, 1 stdev)\n",
    "scaler = StandardScaler().fit(X)\n",
    "standardizedX = scaler.transform(X)\n",
    "standardizedX"
   ]
  },
  {
   "cell_type": "code",
   "execution_count": 29,
   "metadata": {},
   "outputs": [
    {
     "data": {
      "text/plain": [
       "array([[0.034, 0.828, 0.403, ..., 0.188, 0.004, 0.28 ],\n",
       "       [0.008, 0.716, 0.556, ..., 0.224, 0.003, 0.261],\n",
       "       [0.04 , 0.924, 0.323, ..., 0.118, 0.003, 0.162],\n",
       "       ...,\n",
       "       [0.027, 0.651, 0.388, ..., 0.141, 0.001, 0.161],\n",
       "       [0.007, 0.838, 0.399, ..., 0.2  , 0.002, 0.313],\n",
       "       [0.008, 0.736, 0.554, ..., 0.241, 0.002, 0.182]])"
      ]
     },
     "execution_count": 29,
     "metadata": {},
     "output_type": "execute_result"
    }
   ],
   "source": [
    "# Normalize data (length of 1)\n",
    "#Normalizing in scikit-learn refers to rescaling each observation (row) to have a length of 1 (called\n",
    "#a unit norm or a vector with the length of 1 in linear algebra). This pre-processing method\n",
    "#can be useful for sparse datasets (lots of zeros) with attributes of varying scales when using\n",
    "#algorithms that weight input values such as neural networks and algorithms that use distance\n",
    "#measures such as k -Nearest Neighbors\n",
    "\n",
    "scaler = Normalizer().fit(X)\n",
    "normalizedX = scaler.transform(X)\n",
    "normalizedX"
   ]
  }
 ],
 "metadata": {
  "kernelspec": {
   "display_name": "Python 3",
   "language": "python",
   "name": "python3"
  },
  "language_info": {
   "codemirror_mode": {
    "name": "ipython",
    "version": 3
   },
   "file_extension": ".py",
   "mimetype": "text/x-python",
   "name": "python",
   "nbconvert_exporter": "python",
   "pygments_lexer": "ipython3",
   "version": "3.6.8"
  }
 },
 "nbformat": 4,
 "nbformat_minor": 2
}
